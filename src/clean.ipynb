{
 "cells": [
  {
   "cell_type": "markdown",
   "metadata": {},
   "source": []
  },
  {
   "cell_type": "code",
   "execution_count": 5,
   "metadata": {},
   "outputs": [],
   "source": [
    "import pandas as pd"
   ]
  },
  {
   "cell_type": "code",
   "execution_count": 16,
   "metadata": {},
   "outputs": [
    {
     "name": "stdout",
     "output_type": "stream",
     "text": [
      "<class 'pandas.core.frame.DataFrame'>\n",
      "RangeIndex: 35040 entries, 0 to 35039\n",
      "Data columns (total 9 columns):\n",
      " #   Column      Non-Null Count  Dtype  \n",
      "---  ------      --------------  -----  \n",
      " 0   StartTime   35040 non-null  object \n",
      " 1   EndTime     35040 non-null  object \n",
      " 2   AreaID      35040 non-null  object \n",
      " 3   UnitName    35040 non-null  object \n",
      " 4   PsrType     35040 non-null  object \n",
      " 5   quantity    35040 non-null  int64  \n",
      " 6   Unnamed: 6  0 non-null      float64\n",
      " 7   StartTime2  35040 non-null  object \n",
      " 8   EndTIme2    35040 non-null  object \n",
      "dtypes: float64(1), int64(1), object(7)\n",
      "memory usage: 2.4+ MB\n"
     ]
    }
   ],
   "source": [
    "df = pd.read_csv('../data/all year/gen_DE_B01.csv')\n",
    "df['StartTime'][0]\n",
    "                          \n",
    "df.info()\n"
   ]
  },
  {
   "cell_type": "code",
   "execution_count": 18,
   "metadata": {},
   "outputs": [
    {
     "name": "stdout",
     "output_type": "stream",
     "text": [
      "<class 'pandas.core.frame.DataFrame'>\n",
      "RangeIndex: 35040 entries, 0 to 35039\n",
      "Data columns (total 9 columns):\n",
      " #   Column      Non-Null Count  Dtype         \n",
      "---  ------      --------------  -----         \n",
      " 0   StartTime   35040 non-null  object        \n",
      " 1   EndTime     35040 non-null  object        \n",
      " 2   AreaID      35040 non-null  object        \n",
      " 3   UnitName    35040 non-null  object        \n",
      " 4   PsrType     35040 non-null  object        \n",
      " 5   quantity    35040 non-null  int64         \n",
      " 6   Unnamed: 6  0 non-null      float64       \n",
      " 7   StartTime2  35040 non-null  datetime64[ns]\n",
      " 8   EndTIme2    35040 non-null  object        \n",
      "dtypes: datetime64[ns](1), float64(1), int64(1), object(6)\n",
      "memory usage: 2.4+ MB\n"
     ]
    }
   ],
   "source": [
    "df['StartTime2'] = pd.to_datetime(df['StartTime2'])\n",
    "df.info()"
   ]
  }
 ],
 "metadata": {
  "kernelspec": {
   "display_name": "base",
   "language": "python",
   "name": "python3"
  },
  "language_info": {
   "codemirror_mode": {
    "name": "ipython",
    "version": 3
   },
   "file_extension": ".py",
   "mimetype": "text/x-python",
   "name": "python",
   "nbconvert_exporter": "python",
   "pygments_lexer": "ipython3",
   "version": "3.6.8"
  }
 },
 "nbformat": 4,
 "nbformat_minor": 2
}
