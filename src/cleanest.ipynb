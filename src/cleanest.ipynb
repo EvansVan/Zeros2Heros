{
 "cells": [
  {
   "cell_type": "code",
   "execution_count": 37,
   "metadata": {},
   "outputs": [],
   "source": [
    "# read_csv from all files in folder Zero2Heros/data/all year/\n",
    "import pandas as pd\n",
    "import numpy as np\n",
    "import matplotlib.pyplot as plt\n",
    "import os\n",
    "\n",
    "\n",
    "# read csv file\n",
    "#germ_data = pd.read_csv('/Users/anatolijkekarev/Desktop/jupyter_env/Zeros2Heros/data/all year/gen_DE_B01.csv', sep=',')"
   ]
  },
  {
   "cell_type": "code",
   "execution_count": 40,
   "metadata": {},
   "outputs": [
    {
     "data": {
      "text/plain": [
       "['gen_DE_B19.csv', 'gen_SE_B12.csv', 'load_UK.csv']"
      ]
     },
     "execution_count": 40,
     "metadata": {},
     "output_type": "execute_result"
    }
   ],
   "source": [
    "# list all the files the folder /Users/anatolijkekarev/Desktop/jupyter_env/Zeros2Heros/data/all year\n",
    "path = '/Users/anatolijkekarev/Desktop/jupyter_env/Zeros2Heros/data/some year/'\n",
    "files = os.listdir(path)\n",
    "files"
   ]
  },
  {
   "cell_type": "code",
   "execution_count": 50,
   "metadata": {},
   "outputs": [],
   "source": [
    "limbo = pd.DataFrame()\n",
    "\n",
    "def transform(x):\n",
    "    # Your transformation logic here\n",
    "    return pd.to_datetime(x)\n",
    "\n",
    "def clean_data(name):\n",
    "    # drop columns\n",
    "    germ_data = pd.read_csv(f'/Users/anatolijkekarev/Desktop/jupyter_env/Zeros2Heros/data/all year/{name}', sep=',')\n",
    "    print(f'applying the clean_data function to the file: {name}')\n",
    "    if name.startswith('load'):\n",
    "        #rename the column 'Load' to 'quantity'\n",
    "        germ_data.rename(columns={'Load':'quantity'}, inplace=True)\n",
    "\n",
    "    germ_data = germ_data[['quantity','StartTime']]\n",
    "    germ_data = germ_data.drop(0)\n",
    "    # Apply the split operation to the 'StartTime' column\n",
    "    germ_data['StartTime'] = germ_data['StartTime'].apply(lambda s: s.split('+')[0])\n",
    "    # Apply the transformation to the 'StartTime' column\n",
    "    germ_data['StartTime'] = germ_data['StartTime'].apply(transform)\n",
    "    germ_data.index = germ_data['StartTime']\n",
    "    germ_data.drop('StartTime',axis=1,inplace=True)\n",
    "    germ_data['quantity'] = germ_data_sel['quantity'].astype(int)\n",
    "    germ_data = germ_data.resample('1H').sum()\n",
    "    new_name = name.replace('.csv', '').replace('load', 'loa')\n",
    "    limbo[new_name] = germ_data['quantity']\n",
    "    print('data appended to limbo')\n"
   ]
  },
  {
   "cell_type": "code",
   "execution_count": 51,
   "metadata": {},
   "outputs": [
    {
     "name": "stdout",
     "output_type": "stream",
     "text": [
      "applying the clean_data function to the file: gen_DE_B19.csv\n",
      "data appended to limbo\n",
      "applying the clean_data function to the file: gen_SE_B12.csv\n",
      "data appended to limbo\n",
      "applying the clean_data function to the file: load_UK.csv\n",
      "data appended to limbo\n"
     ]
    }
   ],
   "source": [
    "for file in files:\n",
    "    clean_data(name = file)"
   ]
  },
  {
   "cell_type": "code",
   "execution_count": 53,
   "metadata": {},
   "outputs": [
    {
     "data": {
      "text/plain": [
       "gen_DE_B19       0\n",
       "gen_SE_B12       2\n",
       "loa_UK        4009\n",
       "dtype: int64"
      ]
     },
     "execution_count": 53,
     "metadata": {},
     "output_type": "execute_result"
    }
   ],
   "source": [
    "limbo.isna().sum()"
   ]
  },
  {
   "cell_type": "code",
   "execution_count": 54,
   "metadata": {},
   "outputs": [
    {
     "data": {
      "text/plain": [
       "10090.0"
      ]
     },
     "execution_count": 54,
     "metadata": {},
     "output_type": "execute_result"
    }
   ],
   "source": [
    "limbo.loa_UK.max()"
   ]
  },
  {
   "cell_type": "code",
   "execution_count": 16,
   "metadata": {},
   "outputs": [
    {
     "ename": "SyntaxError",
     "evalue": "invalid syntax (3876698159.py, line 17)",
     "output_type": "error",
     "traceback": [
      "\u001b[0;36m  Cell \u001b[0;32mIn[16], line 17\u001b[0;36m\u001b[0m\n\u001b[0;31m    germ_data.drop(0,inplace=)\u001b[0m\n\u001b[0m                             ^\u001b[0m\n\u001b[0;31mSyntaxError\u001b[0m\u001b[0;31m:\u001b[0m invalid syntax\n"
     ]
    }
   ],
   "source": [
    "germ_data = germ_data[['quantity','StartTime']]\n",
    "\n",
    "# Apply the split operation to the 'StartTime' column\n",
    "germ_data['StartTime'] = germ_data['StartTime'].apply(lambda s: s.split('+')[0])\n",
    "\n",
    "# Apply the split operation to the 'EndTime' column\n",
    "germ_data['EndTime'] = germ_data['EndTime'].apply(lambda s: s.split('+')[0])\n",
    "\n",
    "# Define your transformation function\n",
    "def transform(x):\n",
    "    # Your transformation logic here\n",
    "    return pd.to_datetime(x)\n",
    "# Apply the transformation to the 'StartTime' column\n",
    "germ_data['StartTime'] = germ_data['StartTime'].apply(transform)\n",
    "germ_data['EndTime'] = germ_data['EndTime'].apply(transform)\n",
    "germ_data.drop(0,inplace=True)\n",
    "\n",
    "germ_data.info()"
   ]
  },
  {
   "cell_type": "code",
   "execution_count": 59,
   "metadata": {},
   "outputs": [
    {
     "data": {
      "text/html": [
       "<div>\n",
       "<style scoped>\n",
       "    .dataframe tbody tr th:only-of-type {\n",
       "        vertical-align: middle;\n",
       "    }\n",
       "\n",
       "    .dataframe tbody tr th {\n",
       "        vertical-align: top;\n",
       "    }\n",
       "\n",
       "    .dataframe thead th {\n",
       "        text-align: right;\n",
       "    }\n",
       "</style>\n",
       "<table border=\"1\" class=\"dataframe\">\n",
       "  <thead>\n",
       "    <tr style=\"text-align: right;\">\n",
       "      <th></th>\n",
       "      <th>quantity</th>\n",
       "    </tr>\n",
       "    <tr>\n",
       "      <th>StartTime</th>\n",
       "      <th></th>\n",
       "    </tr>\n",
       "  </thead>\n",
       "  <tbody>\n",
       "    <tr>\n",
       "      <th>2022-01-01 00:00:00</th>\n",
       "      <td>1244</td>\n",
       "    </tr>\n",
       "    <tr>\n",
       "      <th>2022-01-01 01:00:00</th>\n",
       "      <td>1131</td>\n",
       "    </tr>\n",
       "    <tr>\n",
       "      <th>2022-01-01 02:00:00</th>\n",
       "      <td>1091</td>\n",
       "    </tr>\n",
       "    <tr>\n",
       "      <th>2022-01-01 03:00:00</th>\n",
       "      <td>969</td>\n",
       "    </tr>\n",
       "    <tr>\n",
       "      <th>2022-01-01 04:00:00</th>\n",
       "      <td>896</td>\n",
       "    </tr>\n",
       "    <tr>\n",
       "      <th>...</th>\n",
       "      <td>...</td>\n",
       "    </tr>\n",
       "    <tr>\n",
       "      <th>2022-07-17 19:00:00</th>\n",
       "      <td>786</td>\n",
       "    </tr>\n",
       "    <tr>\n",
       "      <th>2022-07-17 20:00:00</th>\n",
       "      <td>759</td>\n",
       "    </tr>\n",
       "    <tr>\n",
       "      <th>2022-07-17 21:00:00</th>\n",
       "      <td>1469</td>\n",
       "    </tr>\n",
       "    <tr>\n",
       "      <th>2022-07-17 22:00:00</th>\n",
       "      <td>1294</td>\n",
       "    </tr>\n",
       "    <tr>\n",
       "      <th>2022-07-17 23:00:00</th>\n",
       "      <td>603</td>\n",
       "    </tr>\n",
       "  </tbody>\n",
       "</table>\n",
       "<p>4752 rows × 1 columns</p>\n",
       "</div>"
      ],
      "text/plain": [
       "                     quantity\n",
       "StartTime                    \n",
       "2022-01-01 00:00:00      1244\n",
       "2022-01-01 01:00:00      1131\n",
       "2022-01-01 02:00:00      1091\n",
       "2022-01-01 03:00:00       969\n",
       "2022-01-01 04:00:00       896\n",
       "...                       ...\n",
       "2022-07-17 19:00:00       786\n",
       "2022-07-17 20:00:00       759\n",
       "2022-07-17 21:00:00      1469\n",
       "2022-07-17 22:00:00      1294\n",
       "2022-07-17 23:00:00       603\n",
       "\n",
       "[4752 rows x 1 columns]"
      ]
     },
     "execution_count": 59,
     "metadata": {},
     "output_type": "execute_result"
    }
   ],
   "source": [
    "germ_data = pd.read_csv('/Users/anatolijkekarev/Desktop/jupyter_env/Zeros2Heros/data/all year/load_UK.csv', sep=',')\n",
    "germ_data = germ_data.drop(0)\n",
    "\n",
    "germ_data.rename(columns={'Load':'quantity'}, inplace=True)\n",
    "germ_data = germ_data[['quantity','StartTime']]\n",
    "germ_data_sel['quantity'] = germ_data_sel['quantity'].astype(int)\n",
    "germ_data['StartTime'] = germ_data['StartTime'].apply(lambda s: s.split('+')[0])\n",
    "\n",
    "germ_data['StartTime'] = germ_data['StartTime'].apply(transform)\n",
    "germ_data.resample('1H', on = 'StartTime').sum()\n"
   ]
  },
  {
   "cell_type": "code",
   "execution_count": 58,
   "metadata": {},
   "outputs": [
    {
     "data": {
      "text/plain": [
       "quantity     0\n",
       "StartTime    0\n",
       "dtype: int64"
      ]
     },
     "execution_count": 58,
     "metadata": {},
     "output_type": "execute_result"
    }
   ],
   "source": [
    "germ_data.isna().sum()"
   ]
  },
  {
   "cell_type": "code",
   "execution_count": 61,
   "metadata": {},
   "outputs": [
    {
     "data": {
      "text/plain": [
       "quantity                     603\n",
       "StartTime    2022-07-17 23:00:00\n",
       "Name: 9339, dtype: object"
      ]
     },
     "execution_count": 61,
     "metadata": {},
     "output_type": "execute_result"
    }
   ],
   "source": [
    "germ_data.iloc[-1,:]"
   ]
  },
  {
   "cell_type": "code",
   "execution_count": 29,
   "metadata": {},
   "outputs": [
    {
     "data": {
      "text/plain": [
       "30"
      ]
     },
     "execution_count": 29,
     "metadata": {},
     "output_type": "execute_result"
    }
   ],
   "source": [
    "# i would like you to help me with data summation \n",
    "# i want to sum the data for each hour \n",
    "# that requires grouping by hour and summing the quantity column  for each hour\n",
    "germ_data germ_data['EndTime'][35038].minute"
   ]
  }
 ],
 "metadata": {
  "kernelspec": {
   "display_name": "ipy-jupyter-venv3",
   "language": "python",
   "name": "python3"
  },
  "language_info": {
   "codemirror_mode": {
    "name": "ipython",
    "version": 3
   },
   "file_extension": ".py",
   "mimetype": "text/x-python",
   "name": "python",
   "nbconvert_exporter": "python",
   "pygments_lexer": "ipython3",
   "version": "3.11.4"
  }
 },
 "nbformat": 4,
 "nbformat_minor": 2
}
